{
 "cells": [
  {
   "cell_type": "code",
   "execution_count": 1,
   "metadata": {},
   "outputs": [],
   "source": [
    "import numpy as np"
   ]
  },
  {
   "cell_type": "code",
   "execution_count": 2,
   "metadata": {},
   "outputs": [],
   "source": [
    "def qnumber_outer_sum(qnums): #TODO: CHANGE THIS FN %2\n",
    "    \"\"\"\n",
    "    Compute the sum of all combinations of quantum numbers in `qnums`,\n",
    "    and return result as tensor.\n",
    "\n",
    "    Example:\n",
    "        >>> qnumber_outer_sum([[0, 2, -1], [0, 1]])\n",
    "        [[ 0,  1],\n",
    "         [ 2,  3],\n",
    "         [-1,  0]]\n",
    "    \"\"\"\n",
    "    if len(qnums) == 0:\n",
    "        return np.array(0)\n",
    "\n",
    "    T = qnums[0]\n",
    "    for i in range(1, len(qnums)):\n",
    "        T = np.add.outer(T, qnums[i])\n",
    "    return T"
   ]
  },
  {
   "cell_type": "code",
   "execution_count": 3,
   "metadata": {},
   "outputs": [
    {
     "data": {
      "text/plain": [
       "array([[0, 1],\n",
       "       [1, 2],\n",
       "       [1, 2]])"
      ]
     },
     "execution_count": 3,
     "metadata": {},
     "output_type": "execute_result"
    }
   ],
   "source": [
    "qnumber_outer_sum([[0, 1, 1], [0, 1]])"
   ]
  },
  {
   "cell_type": "code",
   "execution_count": 4,
   "metadata": {},
   "outputs": [],
   "source": [
    "def edited_qnumber_outer_sum(qnums): #TODO: CHANGE THIS FN %2\n",
    "    \"\"\"\n",
    "    Compute the sum of all combinations of quantum numbers in `qnums`,\n",
    "    and return result as tensor.\n",
    "\n",
    "    Example:\n",
    "        >>> qnumber_outer_sum([[0, 2, -1], [0, 1]])\n",
    "        [[ 0,  1],\n",
    "         [ 2,  3],\n",
    "         [-1,  0]]\n",
    "    \"\"\"\n",
    "    if len(qnums) == 0:\n",
    "        return np.array(0)\n",
    "\n",
    "    T = qnums[0]\n",
    "    for i in range(1, len(qnums)):\n",
    "        T = np.add.outer(T, qnums[i])%2\n",
    "    return T"
   ]
  },
  {
   "cell_type": "code",
   "execution_count": 5,
   "metadata": {},
   "outputs": [
    {
     "data": {
      "text/plain": [
       "array([[0, 1],\n",
       "       [1, 0],\n",
       "       [1, 0]])"
      ]
     },
     "execution_count": 5,
     "metadata": {},
     "output_type": "execute_result"
    }
   ],
   "source": [
    "edited_qnumber_outer_sum([[0, 1, 1], [0, 1]])"
   ]
  },
  {
   "cell_type": "code",
   "execution_count": null,
   "metadata": {},
   "outputs": [],
   "source": []
  }
 ],
 "metadata": {
  "interpreter": {
   "hash": "b253a4dcc8b32a42a757726a7b607005056b08fca26222b3ce2b466583c65190"
  },
  "kernelspec": {
   "display_name": "Python 3.10.8 ('env')",
   "language": "python",
   "name": "python3"
  },
  "language_info": {
   "codemirror_mode": {
    "name": "ipython",
    "version": 3
   },
   "file_extension": ".py",
   "mimetype": "text/x-python",
   "name": "python",
   "nbconvert_exporter": "python",
   "pygments_lexer": "ipython3",
   "version": "3.10.8"
  },
  "orig_nbformat": 4
 },
 "nbformat": 4,
 "nbformat_minor": 2
}
